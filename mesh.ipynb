{
 "cells": [
  {
   "cell_type": "code",
   "execution_count": 2,
   "metadata": {},
   "outputs": [],
   "source": [
    "import igl\n",
    "import scipy as sp\n",
    "import numpy as np\n",
    "from meshplot import plot, subplot, interact\n",
    "import jax\n",
    "import jax.numpy as jnp\n",
    "import jax.random as jrandom\n",
    "import jax.nn as nn\n",
    "import jax.lax as lax\n",
    "import jax.random as jrandom\n",
    "import jax.nn as nn\n",
    "import jax.lax as lax\n",
    "import os\n",
    "import jax.experimental.sparse as jsp\n",
    "from scipy.sparse import diags, csr_matrix"
   ]
  },
  {
   "cell_type": "code",
   "execution_count": 3,
   "metadata": {},
   "outputs": [
    {
     "name": "stdout",
     "output_type": "stream",
     "text": [
      "<Compressed Sparse Row sparse matrix of dtype 'float64'\n",
      "\twith 17449 stored elements and shape (2503, 2503)>\n",
      "  Coords\tValues\n",
      "  (0, 1164)\t-13140.781215030429\n",
      "  (0, 1089)\t-20695.020348959588\n",
      "  (0, 1070)\t-10914.86127643144\n",
      "  (0, 1065)\t-11204.890857154223\n",
      "  (0, 1064)\t-29214.887406042482\n",
      "  (0, 201)\t-40096.67129402538\n",
      "  (0, 0)\t125267.11239764353\n",
      "  (1, 1299)\t-44811.79680170452\n",
      "  (1, 1108)\t-26961.161764483586\n",
      "  (1, 1044)\t-41467.90550004703\n",
      "  (1, 432)\t-7899.438600652454\n",
      "  (1, 181)\t-53173.74988941298\n",
      "  (1, 1)\t174314.05255630056\n",
      "  (2, 1833)\t-9076.608323489494\n",
      "  (2, 1831)\t-8341.535594263163\n",
      "  (2, 1088)\t7598.4291790739435\n",
      "  (2, 892)\t-8436.163420058776\n",
      "  (2, 516)\t-28857.023585606854\n",
      "  (2, 315)\t-35431.08279684927\n",
      "  (2, 19)\t-60722.96625716041\n",
      "  (2, 2)\t143266.95079835402\n",
      "  (3, 495)\t-35432.7384355848\n",
      "  (3, 494)\t-40933.60520943512\n",
      "  (3, 486)\t-4913.0705736897735\n",
      "  (3, 485)\t-21753.429203334428\n",
      "  :\t:\n",
      "  (2499, 880)\t30745.588392946916\n",
      "  (2500, 2500)\t122257.37337344242\n",
      "  (2500, 2488)\t-13077.512567168817\n",
      "  (2500, 2468)\t-5330.563017334668\n",
      "  (2500, 2464)\t-46582.66606443313\n",
      "  (2500, 2026)\t-6992.451041117889\n",
      "  (2500, 1384)\t-7724.08665136494\n",
      "  (2500, 960)\t-15160.752066229521\n",
      "  (2500, 503)\t-27389.341965793465\n",
      "  (2501, 2501)\t503985.3068771841\n",
      "  (2501, 2477)\t2971.4024657171094\n",
      "  (2501, 2475)\t61954.42093533928\n",
      "  (2501, 2472)\t-133770.04614229608\n",
      "  (2501, 2463)\t-57431.87627292705\n",
      "  (2501, 2433)\t-62335.69020562065\n",
      "  (2501, 1957)\t-278038.431179085\n",
      "  (2501, 1650)\t-37335.086478311765\n",
      "  (2502, 2502)\t153829.10448701886\n",
      "  (2502, 2442)\t-12688.992933606209\n",
      "  (2502, 2419)\t-14401.816481454056\n",
      "  (2502, 2410)\t-45390.30091949425\n",
      "  (2502, 1492)\t13904.995793959415\n",
      "  (2502, 1486)\t-16617.86556127543\n",
      "  (2502, 1319)\t-34754.820792144536\n",
      "  (2502, 1317)\t-43880.303593003795\n"
     ]
    }
   ],
   "source": [
    "cwd = os.getcwd()\n",
    "v, f = igl.read_triangle_mesh(cwd + '/data/meshes/bunny.obj')\n",
    "K = igl.cotmatrix(v, f)\n",
    "\n",
    "M = igl.massmatrix(v, f, igl.MASSMATRIX_TYPE_VORONOI)\n",
    "\n",
    "m_inv = 1.0 / M.diagonal()\n",
    "M_inv = diags(m_inv, format=\"csr\")\n",
    "\n",
    "L = -M_inv @ K\n",
    "\n"
   ]
  }
 ],
 "metadata": {
  "kernelspec": {
   "display_name": "hyperiax",
   "language": "python",
   "name": "python3"
  },
  "language_info": {
   "codemirror_mode": {
    "name": "ipython",
    "version": 3
   },
   "file_extension": ".py",
   "mimetype": "text/x-python",
   "name": "python",
   "nbconvert_exporter": "python",
   "pygments_lexer": "ipython3",
   "version": "3.10.14"
  }
 },
 "nbformat": 4,
 "nbformat_minor": 2
}
