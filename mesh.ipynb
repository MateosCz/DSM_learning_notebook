{
 "cells": [
  {
   "cell_type": "code",
   "execution_count": 3,
   "metadata": {},
   "outputs": [],
   "source": [
    "import igl\n",
    "import scipy as sp\n",
    "import numpy as np\n",
    "import jax\n",
    "import jax.numpy as jnp\n",
    "import jax.random as jrandom\n",
    "import jax.nn as nn\n",
    "import jax.lax as lax\n",
    "import jax.random as jrandom\n",
    "import jax.nn as nn\n",
    "import jax.lax as lax\n",
    "import os\n",
    "import jax.experimental.sparse as jsp\n",
    "from scipy.sparse import diags, csr_matrix\n",
    "from src.data.ToyData import *\n",
    "from src.SDE import *\n",
    "from src.SDESolver import *\n",
    "import random\n",
    "import trimesh\n"
   ]
  },
  {
   "cell_type": "code",
   "execution_count": null,
   "metadata": {},
   "outputs": [],
   "source": []
  },
  {
   "cell_type": "code",
   "execution_count": 4,
   "metadata": {},
   "outputs": [
    {
     "name": "stdout",
     "output_type": "stream",
     "text": [
      "(15625, 3)\n",
      "(100, 3)\n",
      "(100, 15625)\n",
      "(15625, 3)\n",
      "(101, 100, 3)\n"
     ]
    }
   ],
   "source": [
    "def get_random_int():\n",
    "    return random.randint(0, 1000000)\n",
    "cwd = os.getcwd()\n",
    "# v, f = igl.read_triangle_mesh(cwd + '/data/meshes/bunny.obj')\n",
    "# K = igl.cotmatrix(v, f)\n",
    "\n",
    "# M = igl.massmatrix(v, f, igl.MASSMATRIX_TYPE_VORONOI)\n",
    "\n",
    "# m_inv = 1.0 / M.diagonal()\n",
    "# M_inv = diags(m_inv, format=\"csr\")\n",
    "\n",
    "# L = -M_inv @ K\n",
    "\n",
    "sphere_data_generator = SphereDataGenerator(landmark_num=100, radius=1.0, center=jnp.array([0.0, 0.0, 0.0]), seed=0)\n",
    "\n",
    "sphere_v, sphere_f = sphere_data_generator.generate_data(100, 1)\n",
    "\n",
    "sde_3d = Kunita_Flow_SDE_3D_Eulerian(k_alpha=1.0, k_sigma=1.0, grid_num=25, grid_range=[-1,1], x0=sphere_v[0])\n",
    "sde_solver = EulerMaruyama.from_sde(sde_3d, 0.01, 1.0, 3, None,debug_mode=False)\n",
    "xs,_ = sde_solver.solve(sphere_v[0], rng_key=jrandom.PRNGKey(get_random_int()))\n",
    "print(xs.shape)"
   ]
  },
  {
   "cell_type": "code",
   "execution_count": null,
   "metadata": {},
   "outputs": [],
   "source": []
  }
 ],
 "metadata": {
  "kernelspec": {
   "display_name": "polyscope_env",
   "language": "python",
   "name": "python3"
  },
  "language_info": {
   "codemirror_mode": {
    "name": "ipython",
    "version": 3
   },
   "file_extension": ".py",
   "mimetype": "text/x-python",
   "name": "python",
   "nbconvert_exporter": "python",
   "pygments_lexer": "ipython3",
   "version": "3.12.9"
  }
 },
 "nbformat": 4,
 "nbformat_minor": 2
}
